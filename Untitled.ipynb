{
 "cells": [
  {
   "cell_type": "markdown",
   "id": "53b6238f-abe3-49ec-b71d-8de592a58e67",
   "metadata": {},
   "source": [
    "## Table of Contents\n",
    "\n",
    "1. Introduction\n",
    "2. Import Module\n",
    "3. Create a Functiomn to Trigger Save Button\n",
    "4. Create a Function to Trigger Open Button\n",
    "5. Define the Mousewheel Connection with Scrollbar\n",
    "6. Define Window\n",
    "7. Define Widgets\n",
    "8. Resize Textbox with The Window\n",
    "9. Run the Window \n",
    "    \n",
    "Introduction: Aa a Python beginner I am always looking for ways to apply my basic Python skills to create different kinds of applications. One of the most useful projects is a text editor application. It is perfect for writing down notes and saving them to read later. Have you ever thought about creating your own text editor app? If yes, I am sure this thorough description of building my simple text editor will help you get started.  \n"
   ]
  },
  {
   "cell_type": "markdown",
   "id": "abd877a2-63b4-49af-856f-7456835c9201",
   "metadata": {},
   "source": [
    "### 1. Import GUI(Tkinter) and Modules\n",
    "My first step was to import Tkinter. It is a Graphical User Interface Library for Python. It comes with Python. So,you don't need to install it separately. I imported modules like- filedialog, which allows a small file selection window to appear inside the main window; messagebox, which creates pop-up alert boxes; and font, which helps control the text style in my applicatiuon."
   ]
  },
  {
   "cell_type": "markdown",
   "id": "10895883-5045-47ba-8287-f2b857fd85d8",
   "metadata": {},
   "source": [
    "```\n",
    "import tkinter as tk\n",
    "from tkinter import filedialog\n",
    "from tkinter import messagebox\n",
    "from tkinter import font\n"
   ]
  },
  {
   "cell_type": "markdown",
   "id": "895078af-c8f0-41f4-b1cd-1e92927dad90",
   "metadata": {},
   "source": [
    "### 2. Create a Function to Trigger \"Save\" Button \n",
    "I created a function that is triggered by the ```Save``` button I had already defined. Although I mention this function as the second point, you must define the buttons, frames, and other widgets before creating the function. This is a self-made function, so you can name it whatever you like. To make it simple and easy to understand, I named it ```save_task()```.\n",
    "\n",
    "From line 1, character 0 to the last character, all values entered in the textbox are retrieved and stored in a variable called texts. Any leading or trailing whitespace is removed using ```.strip()```.\n",
    "\n",
    "I added a condition to prevent saving an empty file when there is nothing in the textbox. If the save button is clicked without entering any text, a pop-up message box appears showing ```Textbox is empty. Nothing to save.```\n",
    "\n",
    "After that, a \"Save As\" file dialog box opens. I set ```.txt``` as the default file type, but also kept the option of saving as any file type by adding ```\"All Files\", \"*.*\"```\n",
    "\n",
    "The next block of code is responsible for saving the contents of the Tkinter application to the chosen file. First, it checks if ```save_path``` contains a valid file path, which happens only if \"Save\" was clicked in the file dialog. Inside a try block, the file is opened in write mode using Python’s with statement, which ensures the file is automatically closed after the operation. The ```file.write(texts)``` line writes the text from the texts variable into the file. If the save is successful, a Tkinter information message box is displayed to notify the user. If any error occurs during the process—such as permission issues or an inaccessible location—the \"except\" block catches it and shows an error message instead."
   ]
  },
  {
   "cell_type": "markdown",
   "id": "97e1c379-a229-4680-ab52-6f14c099d769",
   "metadata": {},
   "source": [
    "### 3. Create a Function to Trigger \"Open\" Button\n"
   ]
  }
 ],
 "metadata": {
  "kernelspec": {
   "display_name": "Python 3 (ipykernel)",
   "language": "python",
   "name": "python3"
  },
  "language_info": {
   "codemirror_mode": {
    "name": "ipython",
    "version": 3
   },
   "file_extension": ".py",
   "mimetype": "text/x-python",
   "name": "python",
   "nbconvert_exporter": "python",
   "pygments_lexer": "ipython3",
   "version": "3.10.18"
  }
 },
 "nbformat": 4,
 "nbformat_minor": 5
}
