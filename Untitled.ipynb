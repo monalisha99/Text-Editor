{
 "cells": [
  {
   "cell_type": "markdown",
   "id": "53b6238f-abe3-49ec-b71d-8de592a58e67",
   "metadata": {},
   "source": [
    "## Table of Contents\n",
    "\n",
    "1. Introduction\n",
    "2. Import Module\n",
    "3. Create a Functiomn to Trigger Save Button\n",
    "4. Create a Function to Trigger Open Button\n",
    "5. Define the Mousewheel Connection with Scrollbar\n",
    "6. Define Window\n",
    "7. Define Widgets\n",
    "8. Resize Textbox with The Window\n",
    "9. Run the Window \n",
    "    \n",
    "1. Introduction:\n"
   ]
  }
 ],
 "metadata": {
  "kernelspec": {
   "display_name": "Python 3 (ipykernel)",
   "language": "python",
   "name": "python3"
  },
  "language_info": {
   "codemirror_mode": {
    "name": "ipython",
    "version": 3
   },
   "file_extension": ".py",
   "mimetype": "text/x-python",
   "name": "python",
   "nbconvert_exporter": "python",
   "pygments_lexer": "ipython3",
   "version": "3.10.18"
  }
 },
 "nbformat": 4,
 "nbformat_minor": 5
}
