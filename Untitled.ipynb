{
 "cells": [
  {
   "cell_type": "markdown",
   "id": "53b6238f-abe3-49ec-b71d-8de592a58e67",
   "metadata": {},
   "source": [
    "## Table of Contents\n",
    "\n",
    "1. Introduction\n",
    "2. Import Module\n",
    "3. Create a Functiomn to Trigger Save Button\n",
    "4. Create a Function to Trigger Open Button\n",
    "5. Define the Mousewheel Connection with Scrollbar\n",
    "6. Define Window\n",
    "7. Define Widgets\n",
    "8. Resize Textbox with The Window\n",
    "9. Run the Window \n",
    "    \n",
    "Introduction: Aa a Python beginner I am always looking for ways to apply my basic Python skills to create different kinds of applications. One of the most useful projects is a text editor application. It is perfect for writing down notes and saving them to read later. Have you ever thought about creating your own text editor app? If yes, I am sure this thorough description of building my simple text editor will help you get started.  \n"
   ]
  },
  {
   "cell_type": "markdown",
   "id": "abd877a2-63b4-49af-856f-7456835c9201",
   "metadata": {},
   "source": [
    "### 1. Import GUI(Tkinter) and Modules\n",
    "My first step was to import Tkinter. It is a Graphical User Interface Library for Python. It comes with Python. So,you don't need to install it separately. I imported modules like- filedialog, which allows a small file selection window to appear inside the main window; messagebox, which creates pop-up alert boxes; and font, which helps control the text style in my applicatiuon."
   ]
  },
  {
   "cell_type": "markdown",
   "id": "10895883-5045-47ba-8287-f2b857fd85d8",
   "metadata": {},
   "source": [
    "```\n",
    "import tkinter as tk\n",
    "from tkinter import filedialog\n",
    "from tkinter import messagebox\n",
    "from tkinter import font\n"
   ]
  },
  {
   "cell_type": "markdown",
   "id": "895078af-c8f0-41f4-b1cd-1e92927dad90",
   "metadata": {},
   "source": [
    "### 2. Create a Function to Trigger Save Button \n",
    "I create a function that triggers the \"Save\" button that I have already defined. Though I mention this function at a second point you must define the buttons, frame and else widgets earlier to create the function. This is a self made function, therefore you can name the function as your choice. To understand better and easy I named it as ``` sace_task()```. From line 1, and character 0 to the last character every entered values are retrieved from the textbox and stored in a variable ```texts```. The whitespaces are removed through```.strip()```.\n",
    "I have put a condtion to not save an empty file when there is nothing in the textbox. So, When the save button is clicked without entering any text then a pop-up messagebox shows that ``` Textbox is empty. Nothing to save```. \n",
    "\n",
    "A filedialog box ```Save As``` is opened. Then, I kept ```.txt``` file type as default. Besides, I keep the option of saving all types of files as ```\"All files,\" \"*.*\"```\n",
    "\n",
    "The next code is responsible for saving the contents of a Python Tkinter application to a file. First, it checks if ```save_path``` contains a valid file path, which would be the case only if I clicked ```Save``` in the file dialog. Inside a try block, it opens the file in write mode using Python’s with statement, ensuring the file is automatically closed after the operation. The ```file.write(texts)``` line writes the text content from the variable texts into the file. If the save is successful, a Tkinter information message box is displayed to notify the user. If any error occurs during the process—such as invalid permissions or an inaccessible location—the except block catches it and shows an error message instead."
   ]
  },
  {
   "cell_type": "code",
   "execution_count": null,
   "id": "aab207ff-98b6-425d-a29a-6ad24d6afc1c",
   "metadata": {},
   "outputs": [],
   "source": []
  }
 ],
 "metadata": {
  "kernelspec": {
   "display_name": "Python 3 (ipykernel)",
   "language": "python",
   "name": "python3"
  },
  "language_info": {
   "codemirror_mode": {
    "name": "ipython",
    "version": 3
   },
   "file_extension": ".py",
   "mimetype": "text/x-python",
   "name": "python",
   "nbconvert_exporter": "python",
   "pygments_lexer": "ipython3",
   "version": "3.10.18"
  }
 },
 "nbformat": 4,
 "nbformat_minor": 5
}
