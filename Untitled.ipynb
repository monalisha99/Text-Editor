{
 "cells": [
  {
   "cell_type": "markdown",
   "id": "53b6238f-abe3-49ec-b71d-8de592a58e67",
   "metadata": {},
   "source": [
    "## Table of Contents\n",
    "\n",
    "1. Introduction\n",
    "2. Import Module\n",
    "3. Create a Functiomn to Trigger Save Button\n",
    "4. Create a Function to Trigger Open Button\n",
    "5. Define the Mousewheel Connection with Scrollbar\n",
    "6. Define Window\n",
    "7. Define Widgets\n",
    "8. Resize Textbox with The Window\n",
    "9. Run the Window \n",
    "    \n",
    "Introduction: Aa a Python beginner I am always looking for ways to apply my basic Python skills to create different kinds of applications. One of the most useful projects is a text editor application. It is perfect for writing down notes and saving them to read later. Have you ever thought about creating your own text editor app? If yes, I am sure this thorough description of building my simple text editor will help you get started.  \n"
   ]
  },
  {
   "cell_type": "markdown",
   "id": "abd877a2-63b4-49af-856f-7456835c9201",
   "metadata": {},
   "source": [
    "### 1. Import GUI(Tkinter) and Modules\n",
    "My first step was to import Tkinter. It is a Graphical User Interface Library for Python. It comes with Python. So,you don't need to install it separately. I imported modules like- filedialog, which allows a small file selection window to appear inside the main window; messagebox, which creates pop-up alert boxes; and font, which helps control the text style in my applicatiuon."
   ]
  },
  {
   "cell_type": "markdown",
   "id": "10895883-5045-47ba-8287-f2b857fd85d8",
   "metadata": {},
   "source": [
    "```\n",
    "import tkinter as tk\n",
    "from tkinter import filedialog\n",
    "from tkinter import messagebox\n",
    "from tkinter import font\n"
   ]
  },
  {
   "cell_type": "markdown",
   "id": "895078af-c8f0-41f4-b1cd-1e92927dad90",
   "metadata": {},
   "source": [
    "### 2. Create a Function to Trigger \"Save\" Button \n",
    "I created a function that is triggered by the ```Save``` button I had already defined. Although I mention this function as the second point, you must define the buttons, frames, and other widgets before creating the function. This is a self-made function, so you can name it whatever you like. To make it simple and easy to understand, I named it ```save_task()```.\n",
    "\n",
    "From line 1, character 0 to the last character, all values entered in the textbox are retrieved and stored in a variable called texts. Any leading or trailing whitespace is removed using ```.strip()```.\n",
    "\n",
    "I added a condition to prevent saving an empty file when there is nothing in the textbox. If the save button is clicked without entering any text, a pop-up message box appears showing ```Textbox is empty. Nothing to save.```\n",
    "\n",
    "After that, a \"Save As\" file dialog box opens. I set ```.txt``` as the default file type, but also kept the option of saving as any file type by adding ```\"All Files\", \"*.*\"```\n",
    "\n",
    "The next block of code is responsible for saving the contents of the Tkinter application to the chosen file. First, it checks if ```save_path``` contains a valid file path, which happens only if \"Save\" was clicked in the file dialog. Inside a try block, the file is opened in write mode using Python’s with statement, which ensures the file is automatically closed after the operation. The ```file.write(texts)``` line writes the text from the texts variable into the file. If the save is successful, a Tkinter information message box is displayed to notify the user. If any error occurs during the process—such as permission issues or an inaccessible location—the \"except\" block catches it and shows an error message instead."
   ]
  },
  {
   "cell_type": "markdown",
   "id": "0df50286-5aa0-4bee-b286-d51b1cf6058b",
   "metadata": {},
   "source": [
    "```\n",
    "def save_task():\n",
    "    # Get the text from the text box\n",
    "    texts = text_box.get(\"1.0\", tk.END).strip()\n",
    "\n",
    "    if not texts:\n",
    "        messagebox.showwarning(\"Empty\", \"Text box is empty. Nothing to save.\")\n",
    "        return\n",
    "\n",
    "    # Ask for save location (asksaveasfilename, not askopenfilename)\n",
    "    save_path = filedialog.asksaveasfilename(\n",
    "        defaultextension=\".txt\",\n",
    "        filetypes=[(\"Text Files\", \"*.txt\"), (\"All Files\", \"*.*\")]\n",
    "    )\n",
    "\n",
    "    if save_path:\n",
    "        try:\n",
    "            with open(save_path, \"w\") as file:\n",
    "                file.write(texts)\n",
    "            messagebox.showinfo(\"Saved\", \"File saved successfully!\")\n",
    "        except:\n",
    "            messagebox.showerror(\"Error\", \"Could not save file!\")"
   ]
  },
  {
   "cell_type": "markdown",
   "id": "97e1c379-a229-4680-ab52-6f14c099d769",
   "metadata": {},
   "source": [
    "### 3. Create a Function to Trigger \"Open\" Button\n",
    "This function runs when I click the \"Open\" button. When triggered, it opens a file selection dialog where you can choose a file to read. I set the default file type as ```.txt```, but there’s also an ```All Files``` option available in the dialog window. If a file is chosen, the program reads its content and stores it in a variable called ```content```. Before displaying the new data, the text box is completely cleared — from line 1, character 0, to the very last character. Then, the stored content is inserted into the empty text box.\n",
    "If any error occurs during this process, such as an invalid file or a read failure, the program displays an error pop-up message that says: ```Error. Could not read file!```"
   ]
  },
  {
   "cell_type": "markdown",
   "id": "4694b535-526a-4c46-8619-65dbb349fe6b",
   "metadata": {},
   "source": [
    "```\n",
    "def open_file():\n",
    "\t# open the file dialog window on the screen when \"Open\" button is clicked\n",
    "\t# \"Text Files\" is the label shows in the file dialog dropdown \n",
    "\t# The lable also includes \"all files\"\n",
    "\t#  * means any name before .txt file(file type)\n",
    "\t# *.* means any name before and after dot\n",
    "\n",
    "\topen_filedialog_path2 = filedialog.askopenfilename(\n",
    "\t\tfiletypes= [(\"Text Files\", \"*.txt\"),(\"all Files\", \"*.*\")]\n",
    "\t\t)\n",
    "\n",
    "\tif open_filedialog_path2:\n",
    "\t\t# try to open file dialog path and read the files \n",
    "\t\ttry:\n",
    "\t\t\twith open(open_filedialog_path2,\"r\") as file:\n",
    "\t\t\t\tcontent = file.read()\n",
    "\t\t\t\t# clear previous content in the text box\n",
    "\t\t\t\ttext_box.delete(\"1.0\", tk.END)\n",
    "\t\t\t\t# insert the new content\n",
    "\t\t\t\ttext_box.insert(tk.END, content)\n",
    "\t\texcept:\n",
    "\t\t\tmessagebox.showerror(\"Error\", \"Could not read file!\")"
   ]
  },
  {
   "cell_type": "markdown",
   "id": "830a0a07-3833-474d-be5f-8d290054769c",
   "metadata": {},
   "source": [
    "### 4. Enable mouse Wheel Scrolling for Scrollbar\n",
    "To make the text box more comfortable, I created a function called ```on_mouse_wheel()```. This function is triggered whenever the mouse wheel is scrolled while the cursor is over the text box.\n",
    "\n",
    "The event parameter provides information about the scroll action. In this case, ```event.delta``` tells us how much the mouse wheel has moved. A positive value means the wheel is scrolled down, and a negative value means it’s scrolled up.\n",
    "\n",
    "Inside the function, I use ```text_box.yview_scroll()``` to move the text vertically. The first argument controls the number of units to scroll, and the second argument \"units\" specifies the scroll type. Since ```event.delta``` can vary depending on the scroll direction, I multiply it by ```-1/120``` to ensure the scrolling feels natural and consistent in both directions.\n",
    "\n",
    "This simple function gives the text box a smooth scrolling experience, making navigation through long text much easier.\n",
    "\n"
   ]
  },
  {
   "cell_type": "markdown",
   "id": "c3fad953-c438-444e-8bec-01837ebd157f",
   "metadata": {},
   "source": [
    "```\n",
    "def on_mouse_wheel(event):\n",
    "\t# This function is used to scroll the text box when mouse wheel is scrolled\n",
    "\t# event.delta is the amount of scroll\n",
    "\t# positive value means scroll down, negative means scroll up\n",
    "\ttext_box.yview_scroll(int(-1*(event.delta/120)), \"units\")\n"
   ]
  },
  {
   "cell_type": "code",
   "execution_count": null,
   "id": "e88be44f-460c-4368-837c-b210c0bfde1e",
   "metadata": {},
   "outputs": [],
   "source": []
  }
 ],
 "metadata": {
  "kernelspec": {
   "display_name": "Python 3 (ipykernel)",
   "language": "python",
   "name": "python3"
  },
  "language_info": {
   "codemirror_mode": {
    "name": "ipython",
    "version": 3
   },
   "file_extension": ".py",
   "mimetype": "text/x-python",
   "name": "python",
   "nbconvert_exporter": "python",
   "pygments_lexer": "ipython3",
   "version": "3.10.18"
  }
 },
 "nbformat": 4,
 "nbformat_minor": 5
}
